{
 "cells": [
  {
   "cell_type": "markdown",
   "metadata": {},
   "source": [
    "# Q1"
   ]
  },
  {
   "cell_type": "code",
   "execution_count": 6,
   "metadata": {},
   "outputs": [
    {
     "name": "stdout",
     "output_type": "stream",
     "text": [
      "nom :khalil\n",
      "numero de compte: 4862\n",
      "montant: 12.3\n",
      "{'name': 'khalil', 'accnum': 4862, 'mont': 12.3}\n"
     ]
    }
   ],
   "source": [
    "def bankacc(name,accnum,mont):\n",
    "    acc={\"name\":name,\n",
    "        \"accnum\":accnum,\n",
    "        \"mont\":mont}\n",
    "    return acc\n",
    "acc=bankacc(input('nom :'),int(input('numero de compte: ')),float(input('montant: ')))\n",
    "print(acc)"
   ]
  },
  {
   "cell_type": "code",
   "execution_count": 7,
   "metadata": {},
   "outputs": [
    {
     "name": "stdout",
     "output_type": "stream",
     "text": [
      "un réel: 16.85\n",
      "un imaginaire: 4i\n",
      "16.854i\n"
     ]
    }
   ],
   "source": [
    "def complexn(r,i):\n",
    "    return str(r)+str(i)\n",
    "c=complexn(float(input('un réel: ')),input('un imaginaire: '))\n",
    "print(c)"
   ]
  },
  {
   "cell_type": "code",
   "execution_count": 9,
   "metadata": {},
   "outputs": [
    {
     "name": "stdout",
     "output_type": "stream",
     "text": [
      "jour: 6\n",
      "month: may\n",
      "year: 2004\n",
      "6/may/2004\n"
     ]
    }
   ],
   "source": [
    "def date(day,month,year):\n",
    "    return str(day)+\"/\"+str(month)+\"/\"+str(year)\n",
    "d = date(int(input('jour: ')),input('month: '),int(input('year: ')))\n",
    "print(d)"
   ]
  },
  {
   "cell_type": "markdown",
   "metadata": {},
   "source": [
    "# Q2 "
   ]
  },
  {
   "cell_type": "code",
   "execution_count": null,
   "metadata": {},
   "outputs": [],
   "source": [
    "import datetime\n",
    "import re\n",
    "\n",
    "now = datetime.datetime.now()\n",
    "r = re.compile(\"^[a-zA-Z ]*$\")\n",
    "\n",
    "def embauche():\n",
    "    while True:\n",
    "        x = int(input('L’année d’embauche = '))\n",
    "        if x in range(2000,now.year+1):\n",
    "            return x\n",
    "    \n",
    "def name():\n",
    "    while True:\n",
    "        x = input('Nom et Prénom = ')\n",
    "        if r.match(x):\n",
    "            return x\n",
    "\n",
    "def nbr(msg):\n",
    "    while True:\n",
    "        print(msg,end = ' ')\n",
    "        x = input()\n",
    "        if len(x) == 8:\n",
    "            return x\n",
    "\n",
    "def nbemp():\n",
    "    while True:\n",
    "        N = int(input('N employés = '))\n",
    "        if N in range(5,101):\n",
    "            return N\n",
    "\n",
    "def remp(N):\n",
    "    T = []\n",
    "    for i in range(N):\n",
    "        nom = name()\n",
    "        CIN = nbr(\"CIN = \")\n",
    "        emb = embauche()\n",
    "        adress = input('Adresse = ')\n",
    "        nb = nbr(\"N° Tel = \")\n",
    "        user = {\n",
    "            \"nom\":nom,\n",
    "            \"CIN\":CIN,\n",
    "            \"emb\":emb,\n",
    "            \"adress\":adress,\n",
    "            \"nbr\":nb\n",
    "        }\n",
    "        T.append(user)\n",
    "    return T\n",
    "\n",
    "def find(T,CIN):\n",
    "    for i in range(len(T)):\n",
    "        if T[i][\"CIN\"] == CIN:\n",
    "            return T[i]\n",
    "    return 'N°CIN non valide'\n",
    "    \n",
    "N = nbemp()\n",
    "T = remp(N)\n",
    "for i in range(N):\n",
    "    print(T[i])\n",
    "F = find(T,\"12345678\")\n",
    "print(F)"
   ]
  },
  {
   "cell_type": "code",
   "execution_count": 10,
   "metadata": {},
   "outputs": [
    {
     "name": "stdout",
     "output_type": "stream",
     "text": [
      "login: khalil souid\n",
      "passwordraerazerazr\n",
      "date18/85/1615\n",
      "{'login': 'khalil souid', 'password': 'raerazerazr', 'date': '18/85/1615'}\n"
     ]
    }
   ],
   "source": [
    "def fb(login,password,date):\n",
    "    acc= {\n",
    "        \"login\":login,\n",
    "        \"password\":password,\n",
    "        \"date\":date\n",
    "    }\n",
    "    return acc\n",
    "fb = fb(input('login: '),input('password'),input('date'))\n",
    "print(fb)"
   ]
  },
  {
   "cell_type": "markdown",
   "metadata": {},
   "source": [
    "# Q3\n"
   ]
  },
  {
   "cell_type": "code",
   "execution_count": null,
   "metadata": {},
   "outputs": [],
   "source": [
    "def candidat():\n",
    "    while True:\n",
    "        N = int(input('N = '))\n",
    "        if N in range(5,101):\n",
    "            return N\n",
    "def remp(N):\n",
    "    T = []\n",
    "    for _ in range(N):\n",
    "        nom = input('nom = ')\n",
    "        prénom = input('prénom = ')\n",
    "        âge = int(input('âge = '))\n",
    "        diplôme = input(\"diplôme = \")\n",
    "        note = int(input('note'))\n",
    "        ncin = {\n",
    "            'nom':nom,\n",
    "            'prénom':prénom,\n",
    "            'âge':âge,\n",
    "            'diplôme':diplôme,\n",
    "            'note':note\n",
    "        }\n",
    "        T.append(ncin)\n",
    "    return T\n",
    "N = candidat()\n",
    "T = remp(N)\n",
    "\n",
    "\n",
    "def sort(T):\n",
    "    for i in range(len(T) - 1):\n",
    "        for j in range(0 , len(T) - i - 1):\n",
    "\n",
    "            if T[j][\"note\"] > T[j+1][\"note\"] :\n",
    "                T[j], T[j+1] = T[j+1], T[j]\n",
    "    return T\n",
    "\n",
    "T = sort(T)\n",
    "for i in range(5):\n",
    "    print(T[i])"
   ]
  },
  {
   "cell_type": "markdown",
   "metadata": {},
   "source": [
    "# Q4"
   ]
  },
  {
   "cell_type": "code",
   "execution_count": null,
   "metadata": {},
   "outputs": [],
   "source": [
    "def nbemp():\n",
    "    while True:\n",
    "        N = int(input('N employés = '))\n",
    "        if N in range(5,101):\n",
    "            return N\n",
    "#référence désignation ddv \n",
    "T=[]\n",
    "for i in range(N):\n",
    "    référence= input('référence = ')\n",
    "    désignation = input('désignation')\n",
    "    ddv = input('ddv = ')\n",
    "    art = {\n",
    "         'référence':référence,\n",
    "         'désignation':désignation,\n",
    "         'ddv':ddv\n",
    "     }\n",
    "    T.append(art)\n",
    "def find(T,key,N):\n",
    "    for i in range(N):\n",
    "        if T[i]['référence'] == key:\n",
    "            return T[i]\n",
    "    return 'err'\n",
    "print(find(T,\"azerty\",N))\n",
    "def deleteart(T,deli):\n",
    "    for i in range(len(T)):\n",
    "        if(T[i]['référence'] == deli):\n",
    "            del T[i]['référence']\n",
    "            return 'item deleted'\n",
    "    return 'item not found'\n",
    "print(deleteart(T,'azerty'))"
   ]
  }
 ],
 "metadata": {
  "kernelspec": {
   "display_name": "Python 3",
   "language": "python",
   "name": "python3"
  },
  "language_info": {
   "codemirror_mode": {
    "name": "ipython",
    "version": 3
   },
   "file_extension": ".py",
   "mimetype": "text/x-python",
   "name": "python",
   "nbconvert_exporter": "python",
   "pygments_lexer": "ipython3",
   "version": "3.8.5"
  }
 },
 "nbformat": 4,
 "nbformat_minor": 4
}
